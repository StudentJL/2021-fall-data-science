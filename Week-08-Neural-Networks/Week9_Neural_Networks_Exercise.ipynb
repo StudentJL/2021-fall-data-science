{
  "nbformat": 4,
  "nbformat_minor": 0,
  "metadata": {
    "colab": {
      "name": "Week9_Neural_Networks_Exercise.ipynb",
      "provenance": [],
      "collapsed_sections": []
    },
    "kernelspec": {
      "name": "python3",
      "display_name": "Python 3"
    },
    "accelerator": "GPU"
  },
  "cells": [
    {
      "cell_type": "code",
      "metadata": {
        "id": "UEjPEOd93QJU",
        "colab": {
          "base_uri": "https://localhost:8080/"
        },
        "outputId": "5df0d542-f473-41f1-8e89-0b974b16780c"
      },
      "source": [
        "# TensorFlow and tf.keras\n",
        "import tensorflow as tf\n",
        "from tensorflow import keras\n",
        "# Layers for our neural networks\n",
        "from tensorflow.keras.layers import Conv2D, MaxPooling2D, Dropout, Flatten, Dense\n",
        "# A pretrained model for transfer learning\n",
        "from keras.models import Model\n",
        "from keras.applications import vgg19\n",
        "\n",
        "# Our normal python data science stack you've come to know and love\n",
        "import numpy as np\n",
        "import os\n",
        "import sys\n",
        "import matplotlib.pyplot as plt\n",
        "import pandas as pd\n",
        "import seaborn as sns\n",
        "from sklearn.model_selection import train_test_split\n",
        "from sklearn import datasets\n",
        "\n",
        "print(tf.__version__)"
      ],
      "execution_count": null,
      "outputs": [
        {
          "output_type": "stream",
          "name": "stdout",
          "text": [
            "2.6.0\n"
          ]
        }
      ]
    },
    {
      "cell_type": "markdown",
      "metadata": {
        "id": "EIb__qFU3t1n"
      },
      "source": [
        "You're going to use a neural network to make predictions on the MNIST Fashion data set.  Check out the documentation here, make sure you check the size of the images and how many classes are in the data set https://keras.io/api/datasets/fashion_mnist/"
      ]
    },
    {
      "cell_type": "code",
      "metadata": {
        "id": "-k1roY6I8iEe"
      },
      "source": [
        "# switch runtime to GPU\n",
        "\n",
        "# Runtime >> Change Runtime Type >> Hardware accelerator >> GPU \n",
        "# I think this has to be done before the imports, otherwise the imports will not work"
      ],
      "execution_count": null,
      "outputs": []
    },
    {
      "cell_type": "code",
      "metadata": {
        "id": "ErpvW92D3lHy",
        "colab": {
          "base_uri": "https://localhost:8080/"
        },
        "outputId": "e2229b36-2032-4137-dc49-da603507e6f8"
      },
      "source": [
        "# load the fashion mnist data set using tf.keras.datasets.fashion_mnist.load_data()\n",
        "(x_train, y_train), (x_test, y_test) = tf.keras.datasets.fashion_mnist.load_data()"
      ],
      "execution_count": null,
      "outputs": [
        {
          "output_type": "stream",
          "name": "stdout",
          "text": [
            "Downloading data from https://storage.googleapis.com/tensorflow/tf-keras-datasets/train-labels-idx1-ubyte.gz\n",
            "32768/29515 [=================================] - 0s 0us/step\n",
            "40960/29515 [=========================================] - 0s 0us/step\n",
            "Downloading data from https://storage.googleapis.com/tensorflow/tf-keras-datasets/train-images-idx3-ubyte.gz\n",
            "26427392/26421880 [==============================] - 0s 0us/step\n",
            "26435584/26421880 [==============================] - 0s 0us/step\n",
            "Downloading data from https://storage.googleapis.com/tensorflow/tf-keras-datasets/t10k-labels-idx1-ubyte.gz\n",
            "16384/5148 [===============================================================================================] - 0s 0us/step\n",
            "Downloading data from https://storage.googleapis.com/tensorflow/tf-keras-datasets/t10k-images-idx3-ubyte.gz\n",
            "4423680/4422102 [==============================] - 0s 0us/step\n",
            "4431872/4422102 [==============================] - 0s 0us/step\n"
          ]
        }
      ]
    },
    {
      "cell_type": "code",
      "metadata": {
        "id": "rDlqLUNv34RV"
      },
      "source": [
        "# divide the values by 255 and reshape \n",
        "x_train = x_train / 255\n",
        "x_test = x_test / 255\n",
        "\n",
        "x_train = x_train.reshape(-1, 28, 28, 1)\n",
        "y_train = y_train.reshape(-1)\n",
        "\n",
        "x_test = x_test.reshape(-1, 28, 28, 1)\n",
        "y_test = y_test.reshape(-1)"
      ],
      "execution_count": null,
      "outputs": []
    },
    {
      "cell_type": "code",
      "metadata": {
        "id": "PTmgrqVS4BK1"
      },
      "source": [
        "# build the architecture of your model using Sequential()\n",
        "# you can use the same architecture we used in class, try to put your own spin on it, or copy another existing architecture\n",
        "# make sure you set the correct input shape and the correct parameters for the last dense layer\n",
        "\n",
        "model = tf.keras.models.Sequential()\n",
        "\n",
        "model.add(tf.keras.layers.Conv2D(input_shape = (28,28, 1), filters = 28, kernel_size = 3, strides = 1, padding = \"same\", activation = \"relu\")) \n",
        "model.add(tf.keras.layers.Conv2D(filters = 28, kernel_size = 3, strides = 1, padding = \"same\", activation = \"relu\"))\n",
        "model.add(tf.keras.layers.Conv2D(filters = 28, kernel_size = 3, strides = 1, padding = \"same\", activation = \"relu\"))\n",
        "model.add(tf.keras.layers.Conv2D(filters = 28, kernel_size = 3, strides = 1, padding = \"same\", activation = \"relu\"))\n",
        "model.add(tf.keras.layers.Conv2D(filters = 28, kernel_size = 3, strides = 1, padding = \"same\", activation = \"relu\"))\n",
        "model.add(tf.keras.layers.Conv2D(filters = 28, kernel_size = 3, strides = 1, padding = \"same\", activation = \"relu\"))\n",
        "model.add(tf.keras.layers.Conv2D(filters = 28, kernel_size = 3, strides = 1, padding = \"same\", activation = \"relu\"))\n",
        "model.add(tf.keras.layers.MaxPool2D(pool_size = 2, strides = 1, padding = \"same\"))\n",
        "\n",
        "model.add(tf.keras.layers.Flatten())\n",
        "\n",
        "model.add(tf.keras.layers.Dense(256, activation = \"relu\"))\n",
        "model.add(tf.keras.layers.Dense(256, activation = \"relu\"))\n",
        "model.add(tf.keras.layers.Dense(128, activation = \"relu\"))\n",
        "model.add(tf.keras.layers.Dense(10, activation = \"softmax\"))"
      ],
      "execution_count": null,
      "outputs": []
    },
    {
      "cell_type": "code",
      "metadata": {
        "id": "c3bwpVCD3TIK"
      },
      "source": [
        "help(tf.keras.layers.Conv2D)"
      ],
      "execution_count": null,
      "outputs": []
    },
    {
      "cell_type": "code",
      "metadata": {
        "id": "Sl3dS0fi6j7s"
      },
      "source": [
        "help(tf.keras.layers.MaxPool2D)"
      ],
      "execution_count": null,
      "outputs": []
    },
    {
      "cell_type": "code",
      "metadata": {
        "id": "-bvlMsQ2_Mhp"
      },
      "source": [
        "help(tf.keras.layers.Dense)"
      ],
      "execution_count": null,
      "outputs": []
    },
    {
      "cell_type": "code",
      "metadata": {
        "id": "O395g8-G4HJW"
      },
      "source": [
        "# compile your model\n",
        "model.compile(optimizer = tf.keras.optimizers.Adam(), loss = \"sparse_categorical_crossentropy\", metrics = [\"acc\"])"
      ],
      "execution_count": null,
      "outputs": []
    },
    {
      "cell_type": "code",
      "metadata": {
        "id": "cjZrNiiq4Ja1",
        "colab": {
          "base_uri": "https://localhost:8080/"
        },
        "outputId": "636129a0-8395-429a-fe67-8ba8e9dfba59"
      },
      "source": [
        "# fit your model\n",
        "model.fit(x_train, y_train, epochs = 1, validation_split = 0.1)"
      ],
      "execution_count": null,
      "outputs": [
        {
          "output_type": "stream",
          "name": "stdout",
          "text": [
            "1688/1688 [==============================] - 34s 19ms/step - loss: 0.3790 - acc: 0.8621 - val_loss: 0.2957 - val_acc: 0.8857\n"
          ]
        },
        {
          "output_type": "execute_result",
          "data": {
            "text/plain": [
              "<keras.callbacks.History at 0x7ff072cfb6d0>"
            ]
          },
          "metadata": {},
          "execution_count": 108
        }
      ]
    },
    {
      "cell_type": "code",
      "metadata": {
        "id": "Cf_vRXWf4mL2",
        "colab": {
          "base_uri": "https://localhost:8080/"
        },
        "outputId": "b3a72511-ded7-48d3-832a-3ae18f724ab0"
      },
      "source": [
        "# evaluate your results\n",
        "model.evaluate(x_test, y_test)"
      ],
      "execution_count": null,
      "outputs": [
        {
          "output_type": "stream",
          "name": "stdout",
          "text": [
            "313/313 [==============================] - 3s 9ms/step - loss: 0.3017 - acc: 0.8896\n"
          ]
        },
        {
          "output_type": "execute_result",
          "data": {
            "text/plain": [
              "[0.3017258942127228, 0.8895999789237976]"
            ]
          },
          "metadata": {},
          "execution_count": 109
        }
      ]
    },
    {
      "cell_type": "code",
      "metadata": {
        "id": "8vVQ48aK4nWF"
      },
      "source": [
        ""
      ],
      "execution_count": null,
      "outputs": []
    }
  ]
}